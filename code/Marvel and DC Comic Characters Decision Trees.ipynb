{
  "cells": [
    {
      "metadata": {
        "trusted": true
      },
      "cell_type": "markdown",
      "source": "# Women in Comic Books\nPredicting the Prominence of Female Heroes in the future"
    },
    {
      "metadata": {},
      "cell_type": "markdown",
      "source": "## Load Libraries "
    },
    {
      "metadata": {
        "trusted": true
      },
      "cell_type": "code",
      "source": "#Import Python Libraries\nimport pandas as pd\nimport matplotlib.pyplot as mpl \nfrom datetime import datetime\nfrom sklearn.tree import DecisionTreeClassifier \nfrom sklearn.model_selection import train_test_split \nfrom sklearn import metrics\nfrom sklearn import preprocessing",
      "execution_count": 391,
      "outputs": []
    },
    {
      "metadata": {},
      "cell_type": "markdown",
      "source": "## Import Data Sets "
    },
    {
      "metadata": {
        "trusted": true
      },
      "cell_type": "code",
      "source": "#Read csv file\nmarvel = pd.read_csv('../data/marvel-wikia-data.csv')",
      "execution_count": 392,
      "outputs": []
    },
    {
      "metadata": {
        "trusted": true,
        "scrolled": false
      },
      "cell_type": "code",
      "source": "#Read csv file\ndc = pd.read_csv(\"../data/dc-wikia-data.csv\")",
      "execution_count": 393,
      "outputs": []
    },
    {
      "metadata": {
        "trusted": true
      },
      "cell_type": "code",
      "source": "# Reset marvel year column to all caps YEAR so to keep the column names cohesive\nmarvel['YEAR'] = marvel['Year']",
      "execution_count": 394,
      "outputs": []
    },
    {
      "metadata": {},
      "cell_type": "markdown",
      "source": "## Setting new Data frames"
    },
    {
      "metadata": {
        "trusted": true
      },
      "cell_type": "code",
      "source": "# Marvel DataFrame with name, ID, Alignment, eye color, hair color, sex, alive status, appearances, and year\nmarvel = pd.DataFrame(marvel, columns = ['name' , 'ID', 'ALIGN' , 'EYE', 'HAIR', 'SEX', 'YEAR'])\n\n# Create a new column named Universe and set all the column to DC\nmarvel['UNIVERSE'] = 'Marvel'\n\nmarvel.head()",
      "execution_count": 395,
      "outputs": [
        {
          "output_type": "execute_result",
          "execution_count": 395,
          "data": {
            "text/html": "<div>\n<style scoped>\n    .dataframe tbody tr th:only-of-type {\n        vertical-align: middle;\n    }\n\n    .dataframe tbody tr th {\n        vertical-align: top;\n    }\n\n    .dataframe thead th {\n        text-align: right;\n    }\n</style>\n<table border=\"1\" class=\"dataframe\">\n  <thead>\n    <tr style=\"text-align: right;\">\n      <th></th>\n      <th>name</th>\n      <th>ID</th>\n      <th>ALIGN</th>\n      <th>EYE</th>\n      <th>HAIR</th>\n      <th>SEX</th>\n      <th>YEAR</th>\n      <th>UNIVERSE</th>\n    </tr>\n  </thead>\n  <tbody>\n    <tr>\n      <th>0</th>\n      <td>Spider-Man (Peter Parker)</td>\n      <td>Secret Identity</td>\n      <td>Good Characters</td>\n      <td>Hazel Eyes</td>\n      <td>Brown Hair</td>\n      <td>Male Characters</td>\n      <td>1962.0</td>\n      <td>Marvel</td>\n    </tr>\n    <tr>\n      <th>1</th>\n      <td>Captain America (Steven Rogers)</td>\n      <td>Public Identity</td>\n      <td>Good Characters</td>\n      <td>Blue Eyes</td>\n      <td>White Hair</td>\n      <td>Male Characters</td>\n      <td>1941.0</td>\n      <td>Marvel</td>\n    </tr>\n    <tr>\n      <th>2</th>\n      <td>Wolverine (James \\\"Logan\\\" Howlett)</td>\n      <td>Public Identity</td>\n      <td>Neutral Characters</td>\n      <td>Blue Eyes</td>\n      <td>Black Hair</td>\n      <td>Male Characters</td>\n      <td>1974.0</td>\n      <td>Marvel</td>\n    </tr>\n    <tr>\n      <th>3</th>\n      <td>Iron Man (Anthony \\\"Tony\\\" Stark)</td>\n      <td>Public Identity</td>\n      <td>Good Characters</td>\n      <td>Blue Eyes</td>\n      <td>Black Hair</td>\n      <td>Male Characters</td>\n      <td>1963.0</td>\n      <td>Marvel</td>\n    </tr>\n    <tr>\n      <th>4</th>\n      <td>Thor (Thor Odinson)</td>\n      <td>No Dual Identity</td>\n      <td>Good Characters</td>\n      <td>Blue Eyes</td>\n      <td>Blond Hair</td>\n      <td>Male Characters</td>\n      <td>1950.0</td>\n      <td>Marvel</td>\n    </tr>\n  </tbody>\n</table>\n</div>",
            "text/plain": "                                  name                ID               ALIGN  \\\n0            Spider-Man (Peter Parker)   Secret Identity     Good Characters   \n1      Captain America (Steven Rogers)   Public Identity     Good Characters   \n2  Wolverine (James \\\"Logan\\\" Howlett)   Public Identity  Neutral Characters   \n3    Iron Man (Anthony \\\"Tony\\\" Stark)   Public Identity     Good Characters   \n4                  Thor (Thor Odinson)  No Dual Identity     Good Characters   \n\n          EYE        HAIR              SEX    YEAR UNIVERSE  \n0  Hazel Eyes  Brown Hair  Male Characters  1962.0   Marvel  \n1   Blue Eyes  White Hair  Male Characters  1941.0   Marvel  \n2   Blue Eyes  Black Hair  Male Characters  1974.0   Marvel  \n3   Blue Eyes  Black Hair  Male Characters  1963.0   Marvel  \n4   Blue Eyes  Blond Hair  Male Characters  1950.0   Marvel  "
          },
          "metadata": {}
        }
      ]
    },
    {
      "metadata": {
        "trusted": true,
        "scrolled": true
      },
      "cell_type": "code",
      "source": "# DC DataFrame with name, ID, Alignment, eye color, hair color, sex, alive status, appearances, and year\ndc = pd.DataFrame(dc, columns = ['name' , 'ID', 'ALIGN' , 'EYE', 'HAIR', 'SEX', 'YEAR'])\n\n# Create a new column named Universe and set all the column to DC\ndc['UNIVERSE'] = 'DC'\n\ndc.head()",
      "execution_count": 396,
      "outputs": [
        {
          "output_type": "execute_result",
          "execution_count": 396,
          "data": {
            "text/html": "<div>\n<style scoped>\n    .dataframe tbody tr th:only-of-type {\n        vertical-align: middle;\n    }\n\n    .dataframe tbody tr th {\n        vertical-align: top;\n    }\n\n    .dataframe thead th {\n        text-align: right;\n    }\n</style>\n<table border=\"1\" class=\"dataframe\">\n  <thead>\n    <tr style=\"text-align: right;\">\n      <th></th>\n      <th>name</th>\n      <th>ID</th>\n      <th>ALIGN</th>\n      <th>EYE</th>\n      <th>HAIR</th>\n      <th>SEX</th>\n      <th>YEAR</th>\n      <th>UNIVERSE</th>\n    </tr>\n  </thead>\n  <tbody>\n    <tr>\n      <th>0</th>\n      <td>Batman (Bruce Wayne)</td>\n      <td>Secret Identity</td>\n      <td>Good Characters</td>\n      <td>Blue Eyes</td>\n      <td>Black Hair</td>\n      <td>Male Characters</td>\n      <td>1939.0</td>\n      <td>DC</td>\n    </tr>\n    <tr>\n      <th>1</th>\n      <td>Superman (Clark Kent)</td>\n      <td>Secret Identity</td>\n      <td>Good Characters</td>\n      <td>Blue Eyes</td>\n      <td>Black Hair</td>\n      <td>Male Characters</td>\n      <td>1938.0</td>\n      <td>DC</td>\n    </tr>\n    <tr>\n      <th>2</th>\n      <td>Green Lantern (Hal Jordan)</td>\n      <td>Secret Identity</td>\n      <td>Good Characters</td>\n      <td>Brown Eyes</td>\n      <td>Brown Hair</td>\n      <td>Male Characters</td>\n      <td>1940.0</td>\n      <td>DC</td>\n    </tr>\n    <tr>\n      <th>3</th>\n      <td>James Gordon (New Earth)</td>\n      <td>Public Identity</td>\n      <td>Good Characters</td>\n      <td>Brown Eyes</td>\n      <td>White Hair</td>\n      <td>Male Characters</td>\n      <td>1939.0</td>\n      <td>DC</td>\n    </tr>\n    <tr>\n      <th>4</th>\n      <td>Richard Grayson (New Earth)</td>\n      <td>Secret Identity</td>\n      <td>Good Characters</td>\n      <td>Blue Eyes</td>\n      <td>Black Hair</td>\n      <td>Male Characters</td>\n      <td>1940.0</td>\n      <td>DC</td>\n    </tr>\n  </tbody>\n</table>\n</div>",
            "text/plain": "                          name               ID            ALIGN         EYE  \\\n0         Batman (Bruce Wayne)  Secret Identity  Good Characters   Blue Eyes   \n1        Superman (Clark Kent)  Secret Identity  Good Characters   Blue Eyes   \n2   Green Lantern (Hal Jordan)  Secret Identity  Good Characters  Brown Eyes   \n3     James Gordon (New Earth)  Public Identity  Good Characters  Brown Eyes   \n4  Richard Grayson (New Earth)  Secret Identity  Good Characters   Blue Eyes   \n\n         HAIR              SEX    YEAR UNIVERSE  \n0  Black Hair  Male Characters  1939.0       DC  \n1  Black Hair  Male Characters  1938.0       DC  \n2  Brown Hair  Male Characters  1940.0       DC  \n3  White Hair  Male Characters  1939.0       DC  \n4  Black Hair  Male Characters  1940.0       DC  "
          },
          "metadata": {}
        }
      ]
    },
    {
      "metadata": {},
      "cell_type": "markdown",
      "source": "## Making one large Data frame"
    },
    {
      "metadata": {
        "trusted": true,
        "scrolled": false
      },
      "cell_type": "code",
      "source": "# ignore_index means it will reassign new indexes\ncomicCharacters = pd.concat([marvel, dc], ignore_index = True, sort = False)\ncomicCharacters.head()",
      "execution_count": 397,
      "outputs": [
        {
          "output_type": "execute_result",
          "execution_count": 397,
          "data": {
            "text/html": "<div>\n<style scoped>\n    .dataframe tbody tr th:only-of-type {\n        vertical-align: middle;\n    }\n\n    .dataframe tbody tr th {\n        vertical-align: top;\n    }\n\n    .dataframe thead th {\n        text-align: right;\n    }\n</style>\n<table border=\"1\" class=\"dataframe\">\n  <thead>\n    <tr style=\"text-align: right;\">\n      <th></th>\n      <th>name</th>\n      <th>ID</th>\n      <th>ALIGN</th>\n      <th>EYE</th>\n      <th>HAIR</th>\n      <th>SEX</th>\n      <th>YEAR</th>\n      <th>UNIVERSE</th>\n    </tr>\n  </thead>\n  <tbody>\n    <tr>\n      <th>0</th>\n      <td>Spider-Man (Peter Parker)</td>\n      <td>Secret Identity</td>\n      <td>Good Characters</td>\n      <td>Hazel Eyes</td>\n      <td>Brown Hair</td>\n      <td>Male Characters</td>\n      <td>1962.0</td>\n      <td>Marvel</td>\n    </tr>\n    <tr>\n      <th>1</th>\n      <td>Captain America (Steven Rogers)</td>\n      <td>Public Identity</td>\n      <td>Good Characters</td>\n      <td>Blue Eyes</td>\n      <td>White Hair</td>\n      <td>Male Characters</td>\n      <td>1941.0</td>\n      <td>Marvel</td>\n    </tr>\n    <tr>\n      <th>2</th>\n      <td>Wolverine (James \\\"Logan\\\" Howlett)</td>\n      <td>Public Identity</td>\n      <td>Neutral Characters</td>\n      <td>Blue Eyes</td>\n      <td>Black Hair</td>\n      <td>Male Characters</td>\n      <td>1974.0</td>\n      <td>Marvel</td>\n    </tr>\n    <tr>\n      <th>3</th>\n      <td>Iron Man (Anthony \\\"Tony\\\" Stark)</td>\n      <td>Public Identity</td>\n      <td>Good Characters</td>\n      <td>Blue Eyes</td>\n      <td>Black Hair</td>\n      <td>Male Characters</td>\n      <td>1963.0</td>\n      <td>Marvel</td>\n    </tr>\n    <tr>\n      <th>4</th>\n      <td>Thor (Thor Odinson)</td>\n      <td>No Dual Identity</td>\n      <td>Good Characters</td>\n      <td>Blue Eyes</td>\n      <td>Blond Hair</td>\n      <td>Male Characters</td>\n      <td>1950.0</td>\n      <td>Marvel</td>\n    </tr>\n  </tbody>\n</table>\n</div>",
            "text/plain": "                                  name                ID               ALIGN  \\\n0            Spider-Man (Peter Parker)   Secret Identity     Good Characters   \n1      Captain America (Steven Rogers)   Public Identity     Good Characters   \n2  Wolverine (James \\\"Logan\\\" Howlett)   Public Identity  Neutral Characters   \n3    Iron Man (Anthony \\\"Tony\\\" Stark)   Public Identity     Good Characters   \n4                  Thor (Thor Odinson)  No Dual Identity     Good Characters   \n\n          EYE        HAIR              SEX    YEAR UNIVERSE  \n0  Hazel Eyes  Brown Hair  Male Characters  1962.0   Marvel  \n1   Blue Eyes  White Hair  Male Characters  1941.0   Marvel  \n2   Blue Eyes  Black Hair  Male Characters  1974.0   Marvel  \n3   Blue Eyes  Black Hair  Male Characters  1963.0   Marvel  \n4   Blue Eyes  Blond Hair  Male Characters  1950.0   Marvel  "
          },
          "metadata": {}
        }
      ]
    },
    {
      "metadata": {},
      "cell_type": "markdown",
      "source": "## Cleaning up the Data Frame"
    },
    {
      "metadata": {
        "trusted": true,
        "scrolled": false
      },
      "cell_type": "code",
      "source": "# Get a dataframe with only female heroes indexes  \nfemaleComicCharacters = comicCharacters[comicCharacters['SEX'] ==  'Female Characters']\n\n# Drop all characters with NAN as their eye color, hair color, and ID\nfemaleComicCharacters.dropna(subset = ['EYE'], inplace=True) \nfemaleComicCharacters.dropna(subset = ['HAIR'], inplace=True) \nfemaleComicCharacters.dropna(subset = ['ID'], inplace=True) \nfemaleComicCharacters.dropna(subset = ['ALIGN'], inplace=True) \n\n\n# Sorting the data by Year\nfemaleComicCharacters = femaleComicCharacters.sort_values(by ='YEAR' )\n\nfemaleComicCharacters.head()",
      "execution_count": 398,
      "outputs": [
        {
          "output_type": "stream",
          "text": "/home/nbuser/anaconda3_501/lib/python3.6/site-packages/ipykernel/__main__.py:5: SettingWithCopyWarning: \nA value is trying to be set on a copy of a slice from a DataFrame\n\nSee the caveats in the documentation: http://pandas.pydata.org/pandas-docs/stable/indexing.html#indexing-view-versus-copy\n/home/nbuser/anaconda3_501/lib/python3.6/site-packages/ipykernel/__main__.py:6: SettingWithCopyWarning: \nA value is trying to be set on a copy of a slice from a DataFrame\n\nSee the caveats in the documentation: http://pandas.pydata.org/pandas-docs/stable/indexing.html#indexing-view-versus-copy\n/home/nbuser/anaconda3_501/lib/python3.6/site-packages/ipykernel/__main__.py:7: SettingWithCopyWarning: \nA value is trying to be set on a copy of a slice from a DataFrame\n\nSee the caveats in the documentation: http://pandas.pydata.org/pandas-docs/stable/indexing.html#indexing-view-versus-copy\n/home/nbuser/anaconda3_501/lib/python3.6/site-packages/ipykernel/__main__.py:8: SettingWithCopyWarning: \nA value is trying to be set on a copy of a slice from a DataFrame\n\nSee the caveats in the documentation: http://pandas.pydata.org/pandas-docs/stable/indexing.html#indexing-view-versus-copy\n",
          "name": "stderr"
        },
        {
          "output_type": "execute_result",
          "execution_count": 398,
          "data": {
            "text/html": "<div>\n<style scoped>\n    .dataframe tbody tr th:only-of-type {\n        vertical-align: middle;\n    }\n\n    .dataframe tbody tr th {\n        vertical-align: top;\n    }\n\n    .dataframe thead th {\n        text-align: right;\n    }\n</style>\n<table border=\"1\" class=\"dataframe\">\n  <thead>\n    <tr style=\"text-align: right;\">\n      <th></th>\n      <th>name</th>\n      <th>ID</th>\n      <th>ALIGN</th>\n      <th>EYE</th>\n      <th>HAIR</th>\n      <th>SEX</th>\n      <th>YEAR</th>\n      <th>UNIVERSE</th>\n    </tr>\n  </thead>\n  <tbody>\n    <tr>\n      <th>18605</th>\n      <td>Rose Psychic (New Earth)</td>\n      <td>Public Identity</td>\n      <td>Good Characters</td>\n      <td>Black Eyes</td>\n      <td>Black Hair</td>\n      <td>Female Characters</td>\n      <td>1937.0</td>\n      <td>DC</td>\n    </tr>\n    <tr>\n      <th>16390</th>\n      <td>Lois Lane (New Earth)</td>\n      <td>Public Identity</td>\n      <td>Good Characters</td>\n      <td>Blue Eyes</td>\n      <td>Black Hair</td>\n      <td>Female Characters</td>\n      <td>1938.0</td>\n      <td>DC</td>\n    </tr>\n    <tr>\n      <th>16760</th>\n      <td>Abigail Hunkel (New Earth)</td>\n      <td>Secret Identity</td>\n      <td>Good Characters</td>\n      <td>Black Eyes</td>\n      <td>Brown Hair</td>\n      <td>Female Characters</td>\n      <td>1939.0</td>\n      <td>DC</td>\n    </tr>\n    <tr>\n      <th>16874</th>\n      <td>Martha Roberts (New Earth)</td>\n      <td>Secret Identity</td>\n      <td>Good Characters</td>\n      <td>Brown Eyes</td>\n      <td>Brown Hair</td>\n      <td>Female Characters</td>\n      <td>1939.0</td>\n      <td>DC</td>\n    </tr>\n    <tr>\n      <th>366</th>\n      <td>Dorma (Earth-616)</td>\n      <td>No Dual Identity</td>\n      <td>Neutral Characters</td>\n      <td>Blue Eyes</td>\n      <td>Auburn Hair</td>\n      <td>Female Characters</td>\n      <td>1939.0</td>\n      <td>Marvel</td>\n    </tr>\n  </tbody>\n</table>\n</div>",
            "text/plain": "                             name                ID               ALIGN  \\\n18605    Rose Psychic (New Earth)   Public Identity     Good Characters   \n16390       Lois Lane (New Earth)   Public Identity     Good Characters   \n16760  Abigail Hunkel (New Earth)   Secret Identity     Good Characters   \n16874  Martha Roberts (New Earth)   Secret Identity     Good Characters   \n366             Dorma (Earth-616)  No Dual Identity  Neutral Characters   \n\n              EYE         HAIR                SEX    YEAR UNIVERSE  \n18605  Black Eyes   Black Hair  Female Characters  1937.0       DC  \n16390   Blue Eyes   Black Hair  Female Characters  1938.0       DC  \n16760  Black Eyes   Brown Hair  Female Characters  1939.0       DC  \n16874  Brown Eyes   Brown Hair  Female Characters  1939.0       DC  \n366     Blue Eyes  Auburn Hair  Female Characters  1939.0   Marvel  "
          },
          "metadata": {}
        }
      ]
    },
    {
      "metadata": {},
      "cell_type": "markdown",
      "source": "#### In the chunk below the data in each of the stated columns will be asigned a numaric value. This was done so the Categorical data columns could be used in the dicision tree analysis. "
    },
    {
      "metadata": {
        "trusted": true
      },
      "cell_type": "code",
      "source": "# Encodes categorical data into numbers\nle = preprocessing.LabelEncoder()\n# Assigning numerical values and storing in another column\nfemaleComicCharacters['eye color'] = le.fit_transform(femaleComicCharacters['EYE'])\nfemaleComicCharacters['hair color'] = le.fit_transform(femaleComicCharacters['HAIR'])\nfemaleComicCharacters['id'] = le.fit_transform(femaleComicCharacters['ID'])\nfemaleComicCharacters['align'] = le.fit_transform(femaleComicCharacters['ALIGN'])\nfemaleComicCharacters",
      "execution_count": 399,
      "outputs": [
        {
          "output_type": "execute_result",
          "execution_count": 399,
          "data": {
            "text/html": "<div>\n<style scoped>\n    .dataframe tbody tr th:only-of-type {\n        vertical-align: middle;\n    }\n\n    .dataframe tbody tr th {\n        vertical-align: top;\n    }\n\n    .dataframe thead th {\n        text-align: right;\n    }\n</style>\n<table border=\"1\" class=\"dataframe\">\n  <thead>\n    <tr style=\"text-align: right;\">\n      <th></th>\n      <th>name</th>\n      <th>ID</th>\n      <th>ALIGN</th>\n      <th>EYE</th>\n      <th>HAIR</th>\n      <th>SEX</th>\n      <th>YEAR</th>\n      <th>UNIVERSE</th>\n      <th>eye color</th>\n      <th>hair color</th>\n      <th>id</th>\n      <th>align</th>\n    </tr>\n  </thead>\n  <tbody>\n    <tr>\n      <th>18605</th>\n      <td>Rose Psychic (New Earth)</td>\n      <td>Public Identity</td>\n      <td>Good Characters</td>\n      <td>Black Eyes</td>\n      <td>Black Hair</td>\n      <td>Female Characters</td>\n      <td>1937.0</td>\n      <td>DC</td>\n      <td>2</td>\n      <td>2</td>\n      <td>2</td>\n      <td>1</td>\n    </tr>\n    <tr>\n      <th>16390</th>\n      <td>Lois Lane (New Earth)</td>\n      <td>Public Identity</td>\n      <td>Good Characters</td>\n      <td>Blue Eyes</td>\n      <td>Black Hair</td>\n      <td>Female Characters</td>\n      <td>1938.0</td>\n      <td>DC</td>\n      <td>3</td>\n      <td>2</td>\n      <td>2</td>\n      <td>1</td>\n    </tr>\n    <tr>\n      <th>16760</th>\n      <td>Abigail Hunkel (New Earth)</td>\n      <td>Secret Identity</td>\n      <td>Good Characters</td>\n      <td>Black Eyes</td>\n      <td>Brown Hair</td>\n      <td>Female Characters</td>\n      <td>1939.0</td>\n      <td>DC</td>\n      <td>2</td>\n      <td>5</td>\n      <td>3</td>\n      <td>1</td>\n    </tr>\n    <tr>\n      <th>16874</th>\n      <td>Martha Roberts (New Earth)</td>\n      <td>Secret Identity</td>\n      <td>Good Characters</td>\n      <td>Brown Eyes</td>\n      <td>Brown Hair</td>\n      <td>Female Characters</td>\n      <td>1939.0</td>\n      <td>DC</td>\n      <td>4</td>\n      <td>5</td>\n      <td>3</td>\n      <td>1</td>\n    </tr>\n    <tr>\n      <th>366</th>\n      <td>Dorma (Earth-616)</td>\n      <td>No Dual Identity</td>\n      <td>Neutral Characters</td>\n      <td>Blue Eyes</td>\n      <td>Auburn Hair</td>\n      <td>Female Characters</td>\n      <td>1939.0</td>\n      <td>Marvel</td>\n      <td>3</td>\n      <td>0</td>\n      <td>1</td>\n      <td>2</td>\n    </tr>\n    <tr>\n      <th>18310</th>\n      <td>Dala (New Earth)</td>\n      <td>Secret Identity</td>\n      <td>Bad Characters</td>\n      <td>Red Eyes</td>\n      <td>Black Hair</td>\n      <td>Female Characters</td>\n      <td>1939.0</td>\n      <td>DC</td>\n      <td>15</td>\n      <td>2</td>\n      <td>3</td>\n      <td>0</td>\n    </tr>\n    <tr>\n      <th>17843</th>\n      <td>Julie Madison (New Earth)</td>\n      <td>Public Identity</td>\n      <td>Good Characters</td>\n      <td>Blue Eyes</td>\n      <td>Black Hair</td>\n      <td>Female Characters</td>\n      <td>1939.0</td>\n      <td>DC</td>\n      <td>3</td>\n      <td>2</td>\n      <td>2</td>\n      <td>1</td>\n    </tr>\n    <tr>\n      <th>16989</th>\n      <td>Irene Miller (New Earth)</td>\n      <td>Public Identity</td>\n      <td>Good Characters</td>\n      <td>Grey Eyes</td>\n      <td>Black Hair</td>\n      <td>Female Characters</td>\n      <td>1940.0</td>\n      <td>DC</td>\n      <td>7</td>\n      <td>2</td>\n      <td>2</td>\n      <td>1</td>\n    </tr>\n    <tr>\n      <th>16633</th>\n      <td>Dian Belmont (New Earth)</td>\n      <td>Public Identity</td>\n      <td>Good Characters</td>\n      <td>Hazel Eyes</td>\n      <td>Brown Hair</td>\n      <td>Female Characters</td>\n      <td>1940.0</td>\n      <td>DC</td>\n      <td>8</td>\n      <td>5</td>\n      <td>2</td>\n      <td>1</td>\n    </tr>\n    <tr>\n      <th>16610</th>\n      <td>Inza Cramer (New Earth)</td>\n      <td>Secret Identity</td>\n      <td>Good Characters</td>\n      <td>Green Eyes</td>\n      <td>Strawberry Blond Hair</td>\n      <td>Female Characters</td>\n      <td>1940.0</td>\n      <td>DC</td>\n      <td>6</td>\n      <td>18</td>\n      <td>3</td>\n      <td>1</td>\n    </tr>\n    <tr>\n      <th>17194</th>\n      <td>Mary James (New Earth)</td>\n      <td>Public Identity</td>\n      <td>Good Characters</td>\n      <td>Blue Eyes</td>\n      <td>Strawberry Blond Hair</td>\n      <td>Female Characters</td>\n      <td>1940.0</td>\n      <td>DC</td>\n      <td>3</td>\n      <td>18</td>\n      <td>2</td>\n      <td>1</td>\n    </tr>\n    <tr>\n      <th>16485</th>\n      <td>Shiera Sanders (New Earth)</td>\n      <td>Secret Identity</td>\n      <td>Good Characters</td>\n      <td>Brown Eyes</td>\n      <td>Red Hair</td>\n      <td>Female Characters</td>\n      <td>1940.0</td>\n      <td>DC</td>\n      <td>4</td>\n      <td>15</td>\n      <td>3</td>\n      <td>1</td>\n    </tr>\n    <tr>\n      <th>5896</th>\n      <td>Zara of the Jungle (Earth-616)</td>\n      <td>Secret Identity</td>\n      <td>Good Characters</td>\n      <td>Blue Eyes</td>\n      <td>Black Hair</td>\n      <td>Female Characters</td>\n      <td>1940.0</td>\n      <td>Marvel</td>\n      <td>3</td>\n      <td>2</td>\n      <td>3</td>\n      <td>1</td>\n    </tr>\n    <tr>\n      <th>23261</th>\n      <td>Catwoman (Selina Kyle)</td>\n      <td>Secret Identity</td>\n      <td>Neutral Characters</td>\n      <td>Green Eyes</td>\n      <td>Black Hair</td>\n      <td>Female Characters</td>\n      <td>1940.0</td>\n      <td>DC</td>\n      <td>6</td>\n      <td>2</td>\n      <td>3</td>\n      <td>2</td>\n    </tr>\n    <tr>\n      <th>1455</th>\n      <td>Claire Voyant (Earth-616)</td>\n      <td>Secret Identity</td>\n      <td>Neutral Characters</td>\n      <td>Black Eyes</td>\n      <td>Blond Hair</td>\n      <td>Female Characters</td>\n      <td>1940.0</td>\n      <td>Marvel</td>\n      <td>2</td>\n      <td>3</td>\n      <td>3</td>\n      <td>2</td>\n    </tr>\n    <tr>\n      <th>325</th>\n      <td>Betty Dean (Earth-616)</td>\n      <td>No Dual Identity</td>\n      <td>Good Characters</td>\n      <td>Blue Eyes</td>\n      <td>White Hair</td>\n      <td>Female Characters</td>\n      <td>1940.0</td>\n      <td>Marvel</td>\n      <td>3</td>\n      <td>21</td>\n      <td>1</td>\n      <td>1</td>\n    </tr>\n    <tr>\n      <th>20194</th>\n      <td>Nyola (Earth-Two)</td>\n      <td>Secret Identity</td>\n      <td>Bad Characters</td>\n      <td>Brown Eyes</td>\n      <td>Brown Hair</td>\n      <td>Female Characters</td>\n      <td>1940.0</td>\n      <td>DC</td>\n      <td>4</td>\n      <td>5</td>\n      <td>3</td>\n      <td>0</td>\n    </tr>\n    <tr>\n      <th>437</th>\n      <td>Azura (Earth-616)</td>\n      <td>Secret Identity</td>\n      <td>Good Characters</td>\n      <td>Blue Eyes</td>\n      <td>Blond Hair</td>\n      <td>Female Characters</td>\n      <td>1940.0</td>\n      <td>Marvel</td>\n      <td>3</td>\n      <td>3</td>\n      <td>3</td>\n      <td>1</td>\n    </tr>\n    <tr>\n      <th>2917</th>\n      <td>Lynne Harris (Earth-616)</td>\n      <td>Public Identity</td>\n      <td>Good Characters</td>\n      <td>Blue Eyes</td>\n      <td>Blond Hair</td>\n      <td>Female Characters</td>\n      <td>1940.0</td>\n      <td>Marvel</td>\n      <td>3</td>\n      <td>3</td>\n      <td>2</td>\n      <td>1</td>\n    </tr>\n    <tr>\n      <th>10546</th>\n      <td>Diane Carson (Earth-616)</td>\n      <td>Public Identity</td>\n      <td>Good Characters</td>\n      <td>Blue Eyes</td>\n      <td>Blond Hair</td>\n      <td>Female Characters</td>\n      <td>1940.0</td>\n      <td>Marvel</td>\n      <td>3</td>\n      <td>3</td>\n      <td>2</td>\n      <td>1</td>\n    </tr>\n    <tr>\n      <th>17912</th>\n      <td>Chay-Ara (New Earth)</td>\n      <td>Public Identity</td>\n      <td>Good Characters</td>\n      <td>Brown Eyes</td>\n      <td>Brown Hair</td>\n      <td>Female Characters</td>\n      <td>1940.0</td>\n      <td>DC</td>\n      <td>4</td>\n      <td>5</td>\n      <td>2</td>\n      <td>1</td>\n    </tr>\n    <tr>\n      <th>1505</th>\n      <td>Elizabeth Barstow (Earth-616)</td>\n      <td>Secret Identity</td>\n      <td>Good Characters</td>\n      <td>Blue Eyes</td>\n      <td>White Hair</td>\n      <td>Female Characters</td>\n      <td>1941.0</td>\n      <td>Marvel</td>\n      <td>3</td>\n      <td>21</td>\n      <td>3</td>\n      <td>1</td>\n    </tr>\n    <tr>\n      <th>17149</th>\n      <td>Joan Dale (New Earth)</td>\n      <td>Secret Identity</td>\n      <td>Good Characters</td>\n      <td>Blue Eyes</td>\n      <td>Black Hair</td>\n      <td>Female Characters</td>\n      <td>1941.0</td>\n      <td>DC</td>\n      <td>3</td>\n      <td>2</td>\n      <td>3</td>\n      <td>1</td>\n    </tr>\n    <tr>\n      <th>17066</th>\n      <td>Myra Mason (New Earth)</td>\n      <td>Public Identity</td>\n      <td>Good Characters</td>\n      <td>Blue Eyes</td>\n      <td>Blond Hair</td>\n      <td>Female Characters</td>\n      <td>1941.0</td>\n      <td>DC</td>\n      <td>3</td>\n      <td>3</td>\n      <td>2</td>\n      <td>1</td>\n    </tr>\n    <tr>\n      <th>16381</th>\n      <td>Wonder Woman (Diana Prince)</td>\n      <td>Public Identity</td>\n      <td>Good Characters</td>\n      <td>Blue Eyes</td>\n      <td>Black Hair</td>\n      <td>Female Characters</td>\n      <td>1941.0</td>\n      <td>DC</td>\n      <td>3</td>\n      <td>2</td>\n      <td>2</td>\n      <td>1</td>\n    </tr>\n    <tr>\n      <th>15288</th>\n      <td>Elizabeth \\\"Betsy\\\" Ross (Earth-616)</td>\n      <td>Secret Identity</td>\n      <td>Good Characters</td>\n      <td>Blue Eyes</td>\n      <td>Blond Hair</td>\n      <td>Female Characters</td>\n      <td>1941.0</td>\n      <td>Marvel</td>\n      <td>3</td>\n      <td>3</td>\n      <td>3</td>\n      <td>1</td>\n    </tr>\n    <tr>\n      <th>16660</th>\n      <td>Aphrodite (New Earth)</td>\n      <td>Public Identity</td>\n      <td>Neutral Characters</td>\n      <td>Blue Eyes</td>\n      <td>Blond Hair</td>\n      <td>Female Characters</td>\n      <td>1941.0</td>\n      <td>DC</td>\n      <td>3</td>\n      <td>3</td>\n      <td>2</td>\n      <td>2</td>\n    </tr>\n    <tr>\n      <th>16900</th>\n      <td>Hera (New Earth)</td>\n      <td>Public Identity</td>\n      <td>Neutral Characters</td>\n      <td>Blue Eyes</td>\n      <td>Red Hair</td>\n      <td>Female Characters</td>\n      <td>1941.0</td>\n      <td>DC</td>\n      <td>3</td>\n      <td>15</td>\n      <td>2</td>\n      <td>2</td>\n    </tr>\n    <tr>\n      <th>16730</th>\n      <td>Etta Candy (New Earth)</td>\n      <td>Public Identity</td>\n      <td>Good Characters</td>\n      <td>Green Eyes</td>\n      <td>Brown Hair</td>\n      <td>Female Characters</td>\n      <td>1942.0</td>\n      <td>DC</td>\n      <td>6</td>\n      <td>5</td>\n      <td>2</td>\n      <td>1</td>\n    </tr>\n    <tr>\n      <th>18203</th>\n      <td>Gilda Gold (New Earth)</td>\n      <td>Public Identity</td>\n      <td>Good Characters</td>\n      <td>Blue Eyes</td>\n      <td>Brown Hair</td>\n      <td>Female Characters</td>\n      <td>1942.0</td>\n      <td>DC</td>\n      <td>3</td>\n      <td>5</td>\n      <td>2</td>\n      <td>1</td>\n    </tr>\n    <tr>\n      <th>...</th>\n      <td>...</td>\n      <td>...</td>\n      <td>...</td>\n      <td>...</td>\n      <td>...</td>\n      <td>...</td>\n      <td>...</td>\n      <td>...</td>\n      <td>...</td>\n      <td>...</td>\n      <td>...</td>\n      <td>...</td>\n    </tr>\n    <tr>\n      <th>15119</th>\n      <td>Marisol Guerra (Earth-616)</td>\n      <td>Secret Identity</td>\n      <td>Good Characters</td>\n      <td>Brown Eyes</td>\n      <td>Black Hair</td>\n      <td>Female Characters</td>\n      <td>NaN</td>\n      <td>Marvel</td>\n      <td>4</td>\n      <td>2</td>\n      <td>3</td>\n      <td>1</td>\n    </tr>\n    <tr>\n      <th>15126</th>\n      <td>Mother Bones (Earth-616)</td>\n      <td>Secret Identity</td>\n      <td>Neutral Characters</td>\n      <td>Blue Eyes</td>\n      <td>Red Hair</td>\n      <td>Female Characters</td>\n      <td>NaN</td>\n      <td>Marvel</td>\n      <td>3</td>\n      <td>15</td>\n      <td>3</td>\n      <td>2</td>\n    </tr>\n    <tr>\n      <th>15141</th>\n      <td>Rose (assassin) (Earth-616)</td>\n      <td>Public Identity</td>\n      <td>Bad Characters</td>\n      <td>Purple Eyes</td>\n      <td>Black Hair</td>\n      <td>Female Characters</td>\n      <td>NaN</td>\n      <td>Marvel</td>\n      <td>14</td>\n      <td>2</td>\n      <td>2</td>\n      <td>0</td>\n    </tr>\n    <tr>\n      <th>15145</th>\n      <td>Scarlet (Earth-616)</td>\n      <td>No Dual Identity</td>\n      <td>Neutral Characters</td>\n      <td>Blue Eyes</td>\n      <td>Red Hair</td>\n      <td>Female Characters</td>\n      <td>NaN</td>\n      <td>Marvel</td>\n      <td>3</td>\n      <td>15</td>\n      <td>1</td>\n      <td>2</td>\n    </tr>\n    <tr>\n      <th>15152</th>\n      <td>Sygnet (Earth-616)</td>\n      <td>Secret Identity</td>\n      <td>Good Characters</td>\n      <td>Blue Eyes</td>\n      <td>Blond Hair</td>\n      <td>Female Characters</td>\n      <td>NaN</td>\n      <td>Marvel</td>\n      <td>3</td>\n      <td>3</td>\n      <td>3</td>\n      <td>1</td>\n    </tr>\n    <tr>\n      <th>15170</th>\n      <td>Ajna (Earth-616)</td>\n      <td>Secret Identity</td>\n      <td>Neutral Characters</td>\n      <td>Brown Eyes</td>\n      <td>Black Hair</td>\n      <td>Female Characters</td>\n      <td>NaN</td>\n      <td>Marvel</td>\n      <td>4</td>\n      <td>2</td>\n      <td>3</td>\n      <td>2</td>\n    </tr>\n    <tr>\n      <th>15171</th>\n      <td>Alice Taylor (Earth-616)</td>\n      <td>No Dual Identity</td>\n      <td>Good Characters</td>\n      <td>Blue Eyes</td>\n      <td>Blond Hair</td>\n      <td>Female Characters</td>\n      <td>NaN</td>\n      <td>Marvel</td>\n      <td>3</td>\n      <td>3</td>\n      <td>1</td>\n      <td>1</td>\n    </tr>\n    <tr>\n      <th>15179</th>\n      <td>Chynae (Earth-616)</td>\n      <td>No Dual Identity</td>\n      <td>Neutral Characters</td>\n      <td>Yellow Eyes</td>\n      <td>Red Hair</td>\n      <td>Female Characters</td>\n      <td>NaN</td>\n      <td>Marvel</td>\n      <td>21</td>\n      <td>15</td>\n      <td>1</td>\n      <td>2</td>\n    </tr>\n    <tr>\n      <th>15187</th>\n      <td>Doris (Inhuman) (Earth-616)</td>\n      <td>Public Identity</td>\n      <td>Neutral Characters</td>\n      <td>Black Eyes</td>\n      <td>No Hair</td>\n      <td>Female Characters</td>\n      <td>NaN</td>\n      <td>Marvel</td>\n      <td>2</td>\n      <td>10</td>\n      <td>2</td>\n      <td>2</td>\n    </tr>\n    <tr>\n      <th>15188</th>\n      <td>Doris Pym (Earth-616)</td>\n      <td>Public Identity</td>\n      <td>Good Characters</td>\n      <td>Blue Eyes</td>\n      <td>Blond Hair</td>\n      <td>Female Characters</td>\n      <td>NaN</td>\n      <td>Marvel</td>\n      <td>3</td>\n      <td>3</td>\n      <td>2</td>\n      <td>1</td>\n    </tr>\n    <tr>\n      <th>15195</th>\n      <td>Elizabeth Alain (Earth-616)</td>\n      <td>No Dual Identity</td>\n      <td>Neutral Characters</td>\n      <td>Black Eyes</td>\n      <td>Brown Hair</td>\n      <td>Female Characters</td>\n      <td>NaN</td>\n      <td>Marvel</td>\n      <td>2</td>\n      <td>5</td>\n      <td>1</td>\n      <td>2</td>\n    </tr>\n    <tr>\n      <th>15202</th>\n      <td>Grace Valentine (Earth-616)</td>\n      <td>Public Identity</td>\n      <td>Bad Characters</td>\n      <td>Brown Eyes</td>\n      <td>Brown Hair</td>\n      <td>Female Characters</td>\n      <td>NaN</td>\n      <td>Marvel</td>\n      <td>4</td>\n      <td>5</td>\n      <td>2</td>\n      <td>0</td>\n    </tr>\n    <tr>\n      <th>15213</th>\n      <td>Jin (Habit Heroes) (Earth-616)</td>\n      <td>Secret Identity</td>\n      <td>Good Characters</td>\n      <td>Brown Eyes</td>\n      <td>Black Hair</td>\n      <td>Female Characters</td>\n      <td>NaN</td>\n      <td>Marvel</td>\n      <td>4</td>\n      <td>2</td>\n      <td>3</td>\n      <td>1</td>\n    </tr>\n    <tr>\n      <th>15223</th>\n      <td>Lynx (Princess) (Earth-616)</td>\n      <td>No Dual Identity</td>\n      <td>Good Characters</td>\n      <td>Brown Eyes</td>\n      <td>Brown Hair</td>\n      <td>Female Characters</td>\n      <td>NaN</td>\n      <td>Marvel</td>\n      <td>4</td>\n      <td>5</td>\n      <td>1</td>\n      <td>1</td>\n    </tr>\n    <tr>\n      <th>15237</th>\n      <td>Pandora Peters (Earth-616)</td>\n      <td>No Dual Identity</td>\n      <td>Good Characters</td>\n      <td>Brown Eyes</td>\n      <td>Brown Hair</td>\n      <td>Female Characters</td>\n      <td>NaN</td>\n      <td>Marvel</td>\n      <td>4</td>\n      <td>5</td>\n      <td>1</td>\n      <td>1</td>\n    </tr>\n    <tr>\n      <th>15242</th>\n      <td>Quench (Habit Heroes) (Earth-616)</td>\n      <td>Secret Identity</td>\n      <td>Good Characters</td>\n      <td>Brown Eyes</td>\n      <td>Black Hair</td>\n      <td>Female Characters</td>\n      <td>NaN</td>\n      <td>Marvel</td>\n      <td>4</td>\n      <td>2</td>\n      <td>3</td>\n      <td>1</td>\n    </tr>\n    <tr>\n      <th>15252</th>\n      <td>Slips (Earth-616)</td>\n      <td>Secret Identity</td>\n      <td>Neutral Characters</td>\n      <td>Blue Eyes</td>\n      <td>Brown Hair</td>\n      <td>Female Characters</td>\n      <td>NaN</td>\n      <td>Marvel</td>\n      <td>3</td>\n      <td>5</td>\n      <td>3</td>\n      <td>2</td>\n    </tr>\n    <tr>\n      <th>15272</th>\n      <td>Tumult (Earth-616)</td>\n      <td>Secret Identity</td>\n      <td>Good Characters</td>\n      <td>Blue Eyes</td>\n      <td>Black Hair</td>\n      <td>Female Characters</td>\n      <td>NaN</td>\n      <td>Marvel</td>\n      <td>3</td>\n      <td>2</td>\n      <td>3</td>\n      <td>1</td>\n    </tr>\n    <tr>\n      <th>15273</th>\n      <td>Vector (Ascendants) (Earth-616)</td>\n      <td>Secret Identity</td>\n      <td>Good Characters</td>\n      <td>Black Eyes</td>\n      <td>Black Hair</td>\n      <td>Female Characters</td>\n      <td>NaN</td>\n      <td>Marvel</td>\n      <td>2</td>\n      <td>2</td>\n      <td>3</td>\n      <td>1</td>\n    </tr>\n    <tr>\n      <th>15279</th>\n      <td>Zamira (Earth-616)</td>\n      <td>Secret Identity</td>\n      <td>Good Characters</td>\n      <td>Brown Eyes</td>\n      <td>Black Hair</td>\n      <td>Female Characters</td>\n      <td>NaN</td>\n      <td>Marvel</td>\n      <td>4</td>\n      <td>2</td>\n      <td>3</td>\n      <td>1</td>\n    </tr>\n    <tr>\n      <th>16263</th>\n      <td>Joline Cargill (Earth-616)</td>\n      <td>Secret Identity</td>\n      <td>Good Characters</td>\n      <td>Green Eyes</td>\n      <td>Red Hair</td>\n      <td>Female Characters</td>\n      <td>NaN</td>\n      <td>Marvel</td>\n      <td>6</td>\n      <td>15</td>\n      <td>3</td>\n      <td>1</td>\n    </tr>\n    <tr>\n      <th>16277</th>\n      <td>Krista Marwan (Earth-616)</td>\n      <td>No Dual Identity</td>\n      <td>Good Characters</td>\n      <td>Brown Eyes</td>\n      <td>Black Hair</td>\n      <td>Female Characters</td>\n      <td>NaN</td>\n      <td>Marvel</td>\n      <td>4</td>\n      <td>2</td>\n      <td>1</td>\n      <td>1</td>\n    </tr>\n    <tr>\n      <th>16281</th>\n      <td>M'yra (Earth-616)</td>\n      <td>Public Identity</td>\n      <td>Good Characters</td>\n      <td>Brown Eyes</td>\n      <td>Bald</td>\n      <td>Female Characters</td>\n      <td>NaN</td>\n      <td>Marvel</td>\n      <td>4</td>\n      <td>1</td>\n      <td>2</td>\n      <td>1</td>\n    </tr>\n    <tr>\n      <th>16342</th>\n      <td>Terri Lee (Earth-616)</td>\n      <td>Public Identity</td>\n      <td>Good Characters</td>\n      <td>Brown Eyes</td>\n      <td>Black Hair</td>\n      <td>Female Characters</td>\n      <td>NaN</td>\n      <td>Marvel</td>\n      <td>4</td>\n      <td>2</td>\n      <td>2</td>\n      <td>1</td>\n    </tr>\n    <tr>\n      <th>16360</th>\n      <td>Ana (Natasha Romanoff's neighbor) (Earth-616)</td>\n      <td>No Dual Identity</td>\n      <td>Good Characters</td>\n      <td>Black Eyes</td>\n      <td>Grey Hair</td>\n      <td>Female Characters</td>\n      <td>NaN</td>\n      <td>Marvel</td>\n      <td>2</td>\n      <td>8</td>\n      <td>1</td>\n      <td>1</td>\n    </tr>\n    <tr>\n      <th>16366</th>\n      <td>Karen (Hijack's girlfriend) (Earth-616)</td>\n      <td>Public Identity</td>\n      <td>Neutral Characters</td>\n      <td>Brown Eyes</td>\n      <td>Black Hair</td>\n      <td>Female Characters</td>\n      <td>NaN</td>\n      <td>Marvel</td>\n      <td>4</td>\n      <td>2</td>\n      <td>2</td>\n      <td>2</td>\n    </tr>\n    <tr>\n      <th>16369</th>\n      <td>Melanie Kapoor (Earth-616)</td>\n      <td>Public Identity</td>\n      <td>Good Characters</td>\n      <td>Blue Eyes</td>\n      <td>Black Hair</td>\n      <td>Female Characters</td>\n      <td>NaN</td>\n      <td>Marvel</td>\n      <td>3</td>\n      <td>2</td>\n      <td>2</td>\n      <td>1</td>\n    </tr>\n    <tr>\n      <th>18789</th>\n      <td>Marilyn Batson (New Earth)</td>\n      <td>Public Identity</td>\n      <td>Good Characters</td>\n      <td>Brown Eyes</td>\n      <td>Brown Hair</td>\n      <td>Female Characters</td>\n      <td>NaN</td>\n      <td>DC</td>\n      <td>4</td>\n      <td>5</td>\n      <td>2</td>\n      <td>1</td>\n    </tr>\n    <tr>\n      <th>19810</th>\n      <td>Donna Cavanagh (New Earth)</td>\n      <td>Public Identity</td>\n      <td>Good Characters</td>\n      <td>Green Eyes</td>\n      <td>Blond Hair</td>\n      <td>Female Characters</td>\n      <td>NaN</td>\n      <td>DC</td>\n      <td>6</td>\n      <td>3</td>\n      <td>2</td>\n      <td>1</td>\n    </tr>\n    <tr>\n      <th>21903</th>\n      <td>Lisa Morice (New Earth)</td>\n      <td>Public Identity</td>\n      <td>Good Characters</td>\n      <td>Grey Eyes</td>\n      <td>Strawberry Blond Hair</td>\n      <td>Female Characters</td>\n      <td>NaN</td>\n      <td>DC</td>\n      <td>7</td>\n      <td>18</td>\n      <td>2</td>\n      <td>1</td>\n    </tr>\n  </tbody>\n</table>\n<p>2268 rows × 12 columns</p>\n</div>",
            "text/plain": "                                                name                ID  \\\n18605                       Rose Psychic (New Earth)   Public Identity   \n16390                          Lois Lane (New Earth)   Public Identity   \n16760                     Abigail Hunkel (New Earth)   Secret Identity   \n16874                     Martha Roberts (New Earth)   Secret Identity   \n366                                Dorma (Earth-616)  No Dual Identity   \n18310                               Dala (New Earth)   Secret Identity   \n17843                      Julie Madison (New Earth)   Public Identity   \n16989                       Irene Miller (New Earth)   Public Identity   \n16633                       Dian Belmont (New Earth)   Public Identity   \n16610                        Inza Cramer (New Earth)   Secret Identity   \n17194                         Mary James (New Earth)   Public Identity   \n16485                     Shiera Sanders (New Earth)   Secret Identity   \n5896                  Zara of the Jungle (Earth-616)   Secret Identity   \n23261                         Catwoman (Selina Kyle)   Secret Identity   \n1455                       Claire Voyant (Earth-616)   Secret Identity   \n325                           Betty Dean (Earth-616)  No Dual Identity   \n20194                              Nyola (Earth-Two)   Secret Identity   \n437                                Azura (Earth-616)   Secret Identity   \n2917                        Lynne Harris (Earth-616)   Public Identity   \n10546                       Diane Carson (Earth-616)   Public Identity   \n17912                           Chay-Ara (New Earth)   Public Identity   \n1505                   Elizabeth Barstow (Earth-616)   Secret Identity   \n17149                          Joan Dale (New Earth)   Secret Identity   \n17066                         Myra Mason (New Earth)   Public Identity   \n16381                    Wonder Woman (Diana Prince)   Public Identity   \n15288           Elizabeth \\\"Betsy\\\" Ross (Earth-616)   Secret Identity   \n16660                          Aphrodite (New Earth)   Public Identity   \n16900                               Hera (New Earth)   Public Identity   \n16730                         Etta Candy (New Earth)   Public Identity   \n18203                         Gilda Gold (New Earth)   Public Identity   \n...                                              ...               ...   \n15119                     Marisol Guerra (Earth-616)   Secret Identity   \n15126                       Mother Bones (Earth-616)   Secret Identity   \n15141                    Rose (assassin) (Earth-616)   Public Identity   \n15145                            Scarlet (Earth-616)  No Dual Identity   \n15152                             Sygnet (Earth-616)   Secret Identity   \n15170                               Ajna (Earth-616)   Secret Identity   \n15171                       Alice Taylor (Earth-616)  No Dual Identity   \n15179                             Chynae (Earth-616)  No Dual Identity   \n15187                    Doris (Inhuman) (Earth-616)   Public Identity   \n15188                          Doris Pym (Earth-616)   Public Identity   \n15195                    Elizabeth Alain (Earth-616)  No Dual Identity   \n15202                    Grace Valentine (Earth-616)   Public Identity   \n15213                 Jin (Habit Heroes) (Earth-616)   Secret Identity   \n15223                    Lynx (Princess) (Earth-616)  No Dual Identity   \n15237                     Pandora Peters (Earth-616)  No Dual Identity   \n15242              Quench (Habit Heroes) (Earth-616)   Secret Identity   \n15252                              Slips (Earth-616)   Secret Identity   \n15272                             Tumult (Earth-616)   Secret Identity   \n15273                Vector (Ascendants) (Earth-616)   Secret Identity   \n15279                             Zamira (Earth-616)   Secret Identity   \n16263                     Joline Cargill (Earth-616)   Secret Identity   \n16277                      Krista Marwan (Earth-616)  No Dual Identity   \n16281                              M'yra (Earth-616)   Public Identity   \n16342                          Terri Lee (Earth-616)   Public Identity   \n16360  Ana (Natasha Romanoff's neighbor) (Earth-616)  No Dual Identity   \n16366        Karen (Hijack's girlfriend) (Earth-616)   Public Identity   \n16369                     Melanie Kapoor (Earth-616)   Public Identity   \n18789                     Marilyn Batson (New Earth)   Public Identity   \n19810                     Donna Cavanagh (New Earth)   Public Identity   \n21903                        Lisa Morice (New Earth)   Public Identity   \n\n                    ALIGN          EYE                   HAIR  \\\n18605     Good Characters   Black Eyes             Black Hair   \n16390     Good Characters    Blue Eyes             Black Hair   \n16760     Good Characters   Black Eyes             Brown Hair   \n16874     Good Characters   Brown Eyes             Brown Hair   \n366    Neutral Characters    Blue Eyes            Auburn Hair   \n18310      Bad Characters     Red Eyes             Black Hair   \n17843     Good Characters    Blue Eyes             Black Hair   \n16989     Good Characters    Grey Eyes             Black Hair   \n16633     Good Characters   Hazel Eyes             Brown Hair   \n16610     Good Characters   Green Eyes  Strawberry Blond Hair   \n17194     Good Characters    Blue Eyes  Strawberry Blond Hair   \n16485     Good Characters   Brown Eyes               Red Hair   \n5896      Good Characters    Blue Eyes             Black Hair   \n23261  Neutral Characters   Green Eyes             Black Hair   \n1455   Neutral Characters   Black Eyes             Blond Hair   \n325       Good Characters    Blue Eyes             White Hair   \n20194      Bad Characters   Brown Eyes             Brown Hair   \n437       Good Characters    Blue Eyes             Blond Hair   \n2917      Good Characters    Blue Eyes             Blond Hair   \n10546     Good Characters    Blue Eyes             Blond Hair   \n17912     Good Characters   Brown Eyes             Brown Hair   \n1505      Good Characters    Blue Eyes             White Hair   \n17149     Good Characters    Blue Eyes             Black Hair   \n17066     Good Characters    Blue Eyes             Blond Hair   \n16381     Good Characters    Blue Eyes             Black Hair   \n15288     Good Characters    Blue Eyes             Blond Hair   \n16660  Neutral Characters    Blue Eyes             Blond Hair   \n16900  Neutral Characters    Blue Eyes               Red Hair   \n16730     Good Characters   Green Eyes             Brown Hair   \n18203     Good Characters    Blue Eyes             Brown Hair   \n...                   ...          ...                    ...   \n15119     Good Characters   Brown Eyes             Black Hair   \n15126  Neutral Characters    Blue Eyes               Red Hair   \n15141      Bad Characters  Purple Eyes             Black Hair   \n15145  Neutral Characters    Blue Eyes               Red Hair   \n15152     Good Characters    Blue Eyes             Blond Hair   \n15170  Neutral Characters   Brown Eyes             Black Hair   \n15171     Good Characters    Blue Eyes             Blond Hair   \n15179  Neutral Characters  Yellow Eyes               Red Hair   \n15187  Neutral Characters   Black Eyes                No Hair   \n15188     Good Characters    Blue Eyes             Blond Hair   \n15195  Neutral Characters   Black Eyes             Brown Hair   \n15202      Bad Characters   Brown Eyes             Brown Hair   \n15213     Good Characters   Brown Eyes             Black Hair   \n15223     Good Characters   Brown Eyes             Brown Hair   \n15237     Good Characters   Brown Eyes             Brown Hair   \n15242     Good Characters   Brown Eyes             Black Hair   \n15252  Neutral Characters    Blue Eyes             Brown Hair   \n15272     Good Characters    Blue Eyes             Black Hair   \n15273     Good Characters   Black Eyes             Black Hair   \n15279     Good Characters   Brown Eyes             Black Hair   \n16263     Good Characters   Green Eyes               Red Hair   \n16277     Good Characters   Brown Eyes             Black Hair   \n16281     Good Characters   Brown Eyes                   Bald   \n16342     Good Characters   Brown Eyes             Black Hair   \n16360     Good Characters   Black Eyes              Grey Hair   \n16366  Neutral Characters   Brown Eyes             Black Hair   \n16369     Good Characters    Blue Eyes             Black Hair   \n18789     Good Characters   Brown Eyes             Brown Hair   \n19810     Good Characters   Green Eyes             Blond Hair   \n21903     Good Characters    Grey Eyes  Strawberry Blond Hair   \n\n                     SEX    YEAR UNIVERSE  eye color  hair color  id  align  \n18605  Female Characters  1937.0       DC          2           2   2      1  \n16390  Female Characters  1938.0       DC          3           2   2      1  \n16760  Female Characters  1939.0       DC          2           5   3      1  \n16874  Female Characters  1939.0       DC          4           5   3      1  \n366    Female Characters  1939.0   Marvel          3           0   1      2  \n18310  Female Characters  1939.0       DC         15           2   3      0  \n17843  Female Characters  1939.0       DC          3           2   2      1  \n16989  Female Characters  1940.0       DC          7           2   2      1  \n16633  Female Characters  1940.0       DC          8           5   2      1  \n16610  Female Characters  1940.0       DC          6          18   3      1  \n17194  Female Characters  1940.0       DC          3          18   2      1  \n16485  Female Characters  1940.0       DC          4          15   3      1  \n5896   Female Characters  1940.0   Marvel          3           2   3      1  \n23261  Female Characters  1940.0       DC          6           2   3      2  \n1455   Female Characters  1940.0   Marvel          2           3   3      2  \n325    Female Characters  1940.0   Marvel          3          21   1      1  \n20194  Female Characters  1940.0       DC          4           5   3      0  \n437    Female Characters  1940.0   Marvel          3           3   3      1  \n2917   Female Characters  1940.0   Marvel          3           3   2      1  \n10546  Female Characters  1940.0   Marvel          3           3   2      1  \n17912  Female Characters  1940.0       DC          4           5   2      1  \n1505   Female Characters  1941.0   Marvel          3          21   3      1  \n17149  Female Characters  1941.0       DC          3           2   3      1  \n17066  Female Characters  1941.0       DC          3           3   2      1  \n16381  Female Characters  1941.0       DC          3           2   2      1  \n15288  Female Characters  1941.0   Marvel          3           3   3      1  \n16660  Female Characters  1941.0       DC          3           3   2      2  \n16900  Female Characters  1941.0       DC          3          15   2      2  \n16730  Female Characters  1942.0       DC          6           5   2      1  \n18203  Female Characters  1942.0       DC          3           5   2      1  \n...                  ...     ...      ...        ...         ...  ..    ...  \n15119  Female Characters     NaN   Marvel          4           2   3      1  \n15126  Female Characters     NaN   Marvel          3          15   3      2  \n15141  Female Characters     NaN   Marvel         14           2   2      0  \n15145  Female Characters     NaN   Marvel          3          15   1      2  \n15152  Female Characters     NaN   Marvel          3           3   3      1  \n15170  Female Characters     NaN   Marvel          4           2   3      2  \n15171  Female Characters     NaN   Marvel          3           3   1      1  \n15179  Female Characters     NaN   Marvel         21          15   1      2  \n15187  Female Characters     NaN   Marvel          2          10   2      2  \n15188  Female Characters     NaN   Marvel          3           3   2      1  \n15195  Female Characters     NaN   Marvel          2           5   1      2  \n15202  Female Characters     NaN   Marvel          4           5   2      0  \n15213  Female Characters     NaN   Marvel          4           2   3      1  \n15223  Female Characters     NaN   Marvel          4           5   1      1  \n15237  Female Characters     NaN   Marvel          4           5   1      1  \n15242  Female Characters     NaN   Marvel          4           2   3      1  \n15252  Female Characters     NaN   Marvel          3           5   3      2  \n15272  Female Characters     NaN   Marvel          3           2   3      1  \n15273  Female Characters     NaN   Marvel          2           2   3      1  \n15279  Female Characters     NaN   Marvel          4           2   3      1  \n16263  Female Characters     NaN   Marvel          6          15   3      1  \n16277  Female Characters     NaN   Marvel          4           2   1      1  \n16281  Female Characters     NaN   Marvel          4           1   2      1  \n16342  Female Characters     NaN   Marvel          4           2   2      1  \n16360  Female Characters     NaN   Marvel          2           8   1      1  \n16366  Female Characters     NaN   Marvel          4           2   2      2  \n16369  Female Characters     NaN   Marvel          3           2   2      1  \n18789  Female Characters     NaN       DC          4           5   2      1  \n19810  Female Characters     NaN       DC          6           3   2      1  \n21903  Female Characters     NaN       DC          7          18   2      1  \n\n[2268 rows x 12 columns]"
          },
          "metadata": {}
        }
      ]
    },
    {
      "metadata": {
        "trusted": true
      },
      "cell_type": "code",
      "source": "# this is to check that the numaric values match the correct characteristic\nfemaleComicCharacters.loc[18310]\n# the characteristics and their values match correctly",
      "execution_count": 400,
      "outputs": [
        {
          "output_type": "execute_result",
          "execution_count": 400,
          "data": {
            "text/plain": "name           Dala (New Earth)\nID              Secret Identity\nALIGN            Bad Characters\nEYE                    Red Eyes\nHAIR                 Black Hair\nSEX           Female Characters\nYEAR                       1939\nUNIVERSE                     DC\neye color                    15\nhair color                    2\nid                            3\nalign                         0\nName: 18310, dtype: object"
          },
          "metadata": {}
        }
      ]
    },
    {
      "metadata": {},
      "cell_type": "markdown",
      "source": "### The Characteristics and their Numerical Variable \nAlign: 0 = Bad, 1 = Good, 2 = Neutral"
    },
    {
      "metadata": {},
      "cell_type": "markdown",
      "source": "## Looking at the Data "
    },
    {
      "metadata": {
        "trusted": true,
        "scrolled": false
      },
      "cell_type": "code",
      "source": "# Counts the total number characters by align, eye color, hair color, and id\n# this was done so that I could clearly see the total variablees for each characteristic\nfemaleAlignmentCount = femaleComicCharacters['ALIGN'].value_counts()\nfemaleEyeCount = femaleComicCharacters['EYE'].value_counts()\nfemaleHairCount = femaleComicCharacters['HAIR'].value_counts()\nfemaleIdCount = femaleComicCharacters['ID'].value_counts()\n\nprint(femaleAlignmentCount)\nprint(femaleEyeCount)\nprint(femaleHairCount)\nprint(femaleIdCount)",
      "execution_count": 401,
      "outputs": [
        {
          "output_type": "stream",
          "text": "Good Characters       1242\nBad Characters         598\nNeutral Characters     428\nName: ALIGN, dtype: int64\nBlue Eyes          821\nBrown Eyes         633\nGreen Eyes         326\nBlack Eyes         164\nWhite Eyes          76\nRed Eyes            73\nYellow Eyes         52\nGrey Eyes           27\nHazel Eyes          22\nPurple Eyes         19\nViolet Eyes         16\nOrange Eyes          6\nVariable Eyes        6\nPink Eyes            6\nGold Eyes            5\nSilver Eyes          4\nAmber Eyes           4\nMagenta Eyes         2\nYellow Eyeballs      2\nBlack Eyeballs       2\nNo Eyes              1\nMultiple Eyes        1\nName: EYE, dtype: int64\nBlack Hair               768\nBlond Hair               472\nBrown Hair               382\nRed Hair                 260\nWhite Hair                94\nNo Hair                   50\nGreen Hair                39\nGrey Hair                 39\nPurple Hair               30\nStrawberry Blond Hair     26\nAuburn Hair               24\nBald                      21\nPink Hair                 18\nBlue Hair                 17\nOrange Hair                7\nSilver Hair                5\nVariable Hair              4\nMagenta Hair               3\nViolet Hair                3\nYellow Hair                2\nPlatinum Blond Hair        2\nGold Hair                  1\nReddish Brown Hair         1\nName: HAIR, dtype: int64\nSecret Identity                  1152\nPublic Identity                   873\nNo Dual Identity                  239\nKnown to Authorities Identity       4\nName: ID, dtype: int64\n",
          "name": "stdout"
        }
      ]
    },
    {
      "metadata": {
        "trusted": true
      },
      "cell_type": "code",
      "source": "# To know the object type for each column\nfemaleComicCharacters.info()",
      "execution_count": 402,
      "outputs": [
        {
          "output_type": "stream",
          "text": "<class 'pandas.core.frame.DataFrame'>\nInt64Index: 2268 entries, 18605 to 21903\nData columns (total 12 columns):\nname          2268 non-null object\nID            2268 non-null object\nALIGN         2268 non-null object\nEYE           2268 non-null object\nHAIR          2268 non-null object\nSEX           2268 non-null object\nYEAR          2168 non-null float64\nUNIVERSE      2268 non-null object\neye color     2268 non-null int64\nhair color    2268 non-null int64\nid            2268 non-null int64\nalign         2268 non-null int64\ndtypes: float64(1), int64(4), object(7)\nmemory usage: 310.3+ KB\n",
          "name": "stdout"
        }
      ]
    },
    {
      "metadata": {},
      "cell_type": "markdown",
      "source": "## Gathering Data for Classification"
    },
    {
      "metadata": {
        "trusted": true
      },
      "cell_type": "code",
      "source": "# data that will be used to determine if a character is bad, good or neutral\ncharacteristics = femaleComicCharacters[['eye color', 'hair color', 'id']].values\nalliance = femaleComicCharacters[['align']].values",
      "execution_count": 403,
      "outputs": []
    },
    {
      "metadata": {
        "trusted": true
      },
      "cell_type": "code",
      "source": "# 70% training and 30% test\ntrainCharacteristics, testCharacteristics, trainAlliance, testAlliance = train_test_split(characteristics, \n                                                                                          alliance, test_size = 0.3, \n                                                                                          random_state = 1)",
      "execution_count": 404,
      "outputs": []
    },
    {
      "metadata": {},
      "cell_type": "markdown",
      "source": "## Building the Decision Tree\nIf given a set x (Eye color, Hair color, ID), we will try to predit the character's Alliance (Hero, Villain, Neutral)"
    },
    {
      "metadata": {
        "trusted": true,
        "scrolled": false
      },
      "cell_type": "code",
      "source": "# Creating the Tree classifer\ntree = DecisionTreeClassifier()\n\n# Training our model on training data\nmodel = tree.fit(trainCharacteristics, trainAlliance)\n\n# Predict each phase of the testing data\npredictedAlliance = model.predict(testCharacteristics)",
      "execution_count": 405,
      "outputs": []
    },
    {
      "metadata": {
        "trusted": true
      },
      "cell_type": "code",
      "source": "# Make a data frame of the actual Alliance and the predicted Alliance\nresults = pd.DataFrame({'Actual': testAlliance.flatten(), 'Predicted': predictedAlliance.flatten()})\nresults.head()",
      "execution_count": 406,
      "outputs": [
        {
          "output_type": "execute_result",
          "execution_count": 406,
          "data": {
            "text/html": "<div>\n<style scoped>\n    .dataframe tbody tr th:only-of-type {\n        vertical-align: middle;\n    }\n\n    .dataframe tbody tr th {\n        vertical-align: top;\n    }\n\n    .dataframe thead th {\n        text-align: right;\n    }\n</style>\n<table border=\"1\" class=\"dataframe\">\n  <thead>\n    <tr style=\"text-align: right;\">\n      <th></th>\n      <th>Actual</th>\n      <th>Predicted</th>\n    </tr>\n  </thead>\n  <tbody>\n    <tr>\n      <th>0</th>\n      <td>0</td>\n      <td>1</td>\n    </tr>\n    <tr>\n      <th>1</th>\n      <td>1</td>\n      <td>1</td>\n    </tr>\n    <tr>\n      <th>2</th>\n      <td>1</td>\n      <td>1</td>\n    </tr>\n    <tr>\n      <th>3</th>\n      <td>1</td>\n      <td>1</td>\n    </tr>\n    <tr>\n      <th>4</th>\n      <td>0</td>\n      <td>1</td>\n    </tr>\n  </tbody>\n</table>\n</div>",
            "text/plain": "   Actual  Predicted\n0       0          1\n1       1          1\n2       1          1\n3       1          1\n4       0          1"
          },
          "metadata": {}
        }
      ]
    },
    {
      "metadata": {},
      "cell_type": "markdown",
      "source": "### Accuracy"
    },
    {
      "metadata": {
        "trusted": true
      },
      "cell_type": "code",
      "source": "# Model Accurracy\nprint('Accuracy:', metrics.accuracy_score(testAlliance, predictedAlliance))",
      "execution_count": 407,
      "outputs": [
        {
          "output_type": "stream",
          "text": "Accuracy: 0.5139500734214391\n",
          "name": "stdout"
        }
      ]
    },
    {
      "metadata": {},
      "cell_type": "markdown",
      "source": "### The above value is how well my model does with predicting a character's alliance when given set of characteristics (eye color, hair color, and ID). The model has a 51.4% accuracy, which is fairly accurrate. The module's accuracy may improved by using a different set of characteristics."
    },
    {
      "metadata": {},
      "cell_type": "markdown",
      "source": "## Visualization"
    },
    {
      "metadata": {
        "trusted": true,
        "scrolled": true
      },
      "cell_type": "code",
      "source": "# Installing a package in Jupyter notebooks\n!pip install pydotplus",
      "execution_count": 384,
      "outputs": [
        {
          "output_type": "stream",
          "text": "Requirement already satisfied: pydotplus in /home/nbuser/anaconda3_501/lib/python3.6/site-packages (2.0.2)\nRequirement already satisfied: pyparsing>=2.0.1 in /home/nbuser/anaconda3_501/lib/python3.6/site-packages (from pydotplus) (2.3.0)\n\u001b[33mWARNING: You are using pip version 19.3.1; however, version 20.0.2 is available.\nYou should consider upgrading via the 'pip install --upgrade pip' command.\u001b[0m\n",
          "name": "stdout"
        }
      ]
    },
    {
      "metadata": {
        "trusted": true
      },
      "cell_type": "code",
      "source": "from sklearn.externals.six import StringIO\nfrom IPython.display import Image\nfrom sklearn.tree import export_graphviz\nimport pydotplus",
      "execution_count": 385,
      "outputs": []
    },
    {
      "metadata": {
        "trusted": true
      },
      "cell_type": "code",
      "source": "# Prepare labels for the tree\npredictors = ['eye color', 'hair color', 'id']\nclasses = ['0', '1', '2']\n\n# Generate the graphics\ndot_data = StringIO()\nexport_graphviz(model, out_file = dot_data,\n                filled = True, rounded = True,\n                special_characters=True,\n                feature_names= predictors,\n                class_names = classes)\n\ngraph = pydotplus.graph_from_dot_data(dot_data.getvalue())\n\n# Write the file to file\ngraph.write_png('Female_Comic_Characters_DecisionTree.png')\nImage(graph.create_png)",
      "execution_count": 365,
      "outputs": [
        {
          "output_type": "error",
          "ename": "TypeError",
          "evalue": "a bytes-like object is required, not 'function'",
          "traceback": [
            "\u001b[0;31m---------------------------------------------------------------------------\u001b[0m",
            "\u001b[0;31mTypeError\u001b[0m                                 Traceback (most recent call last)",
            "\u001b[0;32m~/anaconda3_501/lib/python3.6/site-packages/IPython/core/formatters.py\u001b[0m in \u001b[0;36m__call__\u001b[0;34m(self, obj, include, exclude)\u001b[0m\n\u001b[1;32m    968\u001b[0m \u001b[0;34m\u001b[0m\u001b[0m\n\u001b[1;32m    969\u001b[0m             \u001b[0;32mif\u001b[0m \u001b[0mmethod\u001b[0m \u001b[0;32mis\u001b[0m \u001b[0;32mnot\u001b[0m \u001b[0;32mNone\u001b[0m\u001b[0;34m:\u001b[0m\u001b[0;34m\u001b[0m\u001b[0m\n\u001b[0;32m--> 970\u001b[0;31m                 \u001b[0;32mreturn\u001b[0m \u001b[0mmethod\u001b[0m\u001b[0;34m(\u001b[0m\u001b[0minclude\u001b[0m\u001b[0;34m=\u001b[0m\u001b[0minclude\u001b[0m\u001b[0;34m,\u001b[0m \u001b[0mexclude\u001b[0m\u001b[0;34m=\u001b[0m\u001b[0mexclude\u001b[0m\u001b[0;34m)\u001b[0m\u001b[0;34m\u001b[0m\u001b[0m\n\u001b[0m\u001b[1;32m    971\u001b[0m             \u001b[0;32mreturn\u001b[0m \u001b[0;32mNone\u001b[0m\u001b[0;34m\u001b[0m\u001b[0m\n\u001b[1;32m    972\u001b[0m         \u001b[0;32melse\u001b[0m\u001b[0;34m:\u001b[0m\u001b[0;34m\u001b[0m\u001b[0m\n",
            "\u001b[0;32m~/anaconda3_501/lib/python3.6/site-packages/IPython/core/display.py\u001b[0m in \u001b[0;36m_repr_mimebundle_\u001b[0;34m(self, include, exclude)\u001b[0m\n\u001b[1;32m   1242\u001b[0m         \u001b[0;32mif\u001b[0m \u001b[0mself\u001b[0m\u001b[0;34m.\u001b[0m\u001b[0membed\u001b[0m\u001b[0;34m:\u001b[0m\u001b[0;34m\u001b[0m\u001b[0m\n\u001b[1;32m   1243\u001b[0m             \u001b[0mmimetype\u001b[0m \u001b[0;34m=\u001b[0m \u001b[0mself\u001b[0m\u001b[0;34m.\u001b[0m\u001b[0m_mimetype\u001b[0m\u001b[0;34m\u001b[0m\u001b[0m\n\u001b[0;32m-> 1244\u001b[0;31m             \u001b[0mdata\u001b[0m\u001b[0;34m,\u001b[0m \u001b[0mmetadata\u001b[0m \u001b[0;34m=\u001b[0m \u001b[0mself\u001b[0m\u001b[0;34m.\u001b[0m\u001b[0m_data_and_metadata\u001b[0m\u001b[0;34m(\u001b[0m\u001b[0malways_both\u001b[0m\u001b[0;34m=\u001b[0m\u001b[0;32mTrue\u001b[0m\u001b[0;34m)\u001b[0m\u001b[0;34m\u001b[0m\u001b[0m\n\u001b[0m\u001b[1;32m   1245\u001b[0m             \u001b[0;32mif\u001b[0m \u001b[0mmetadata\u001b[0m\u001b[0;34m:\u001b[0m\u001b[0;34m\u001b[0m\u001b[0m\n\u001b[1;32m   1246\u001b[0m                 \u001b[0mmetadata\u001b[0m \u001b[0;34m=\u001b[0m \u001b[0;34m{\u001b[0m\u001b[0mmimetype\u001b[0m\u001b[0;34m:\u001b[0m \u001b[0mmetadata\u001b[0m\u001b[0;34m}\u001b[0m\u001b[0;34m\u001b[0m\u001b[0m\n",
            "\u001b[0;32m~/anaconda3_501/lib/python3.6/site-packages/IPython/core/display.py\u001b[0m in \u001b[0;36m_data_and_metadata\u001b[0;34m(self, always_both)\u001b[0m\n\u001b[1;32m   1251\u001b[0m     \u001b[0;32mdef\u001b[0m \u001b[0m_data_and_metadata\u001b[0m\u001b[0;34m(\u001b[0m\u001b[0mself\u001b[0m\u001b[0;34m,\u001b[0m \u001b[0malways_both\u001b[0m\u001b[0;34m=\u001b[0m\u001b[0;32mFalse\u001b[0m\u001b[0;34m)\u001b[0m\u001b[0;34m:\u001b[0m\u001b[0;34m\u001b[0m\u001b[0m\n\u001b[1;32m   1252\u001b[0m         \u001b[0;34m\"\"\"shortcut for returning metadata with shape information, if defined\"\"\"\u001b[0m\u001b[0;34m\u001b[0m\u001b[0m\n\u001b[0;32m-> 1253\u001b[0;31m         \u001b[0mb64_data\u001b[0m \u001b[0;34m=\u001b[0m \u001b[0mb2a_base64\u001b[0m\u001b[0;34m(\u001b[0m\u001b[0mself\u001b[0m\u001b[0;34m.\u001b[0m\u001b[0mdata\u001b[0m\u001b[0;34m)\u001b[0m\u001b[0;34m.\u001b[0m\u001b[0mdecode\u001b[0m\u001b[0;34m(\u001b[0m\u001b[0;34m'ascii'\u001b[0m\u001b[0;34m)\u001b[0m\u001b[0;34m\u001b[0m\u001b[0m\n\u001b[0m\u001b[1;32m   1254\u001b[0m         \u001b[0mmd\u001b[0m \u001b[0;34m=\u001b[0m \u001b[0;34m{\u001b[0m\u001b[0;34m}\u001b[0m\u001b[0;34m\u001b[0m\u001b[0m\n\u001b[1;32m   1255\u001b[0m         \u001b[0;32mif\u001b[0m \u001b[0mself\u001b[0m\u001b[0;34m.\u001b[0m\u001b[0mmetadata\u001b[0m\u001b[0;34m:\u001b[0m\u001b[0;34m\u001b[0m\u001b[0m\n",
            "\u001b[0;31mTypeError\u001b[0m: a bytes-like object is required, not 'function'"
          ]
        },
        {
          "output_type": "error",
          "ename": "TypeError",
          "evalue": "a bytes-like object is required, not 'function'",
          "traceback": [
            "\u001b[0;31m---------------------------------------------------------------------------\u001b[0m",
            "\u001b[0;31mTypeError\u001b[0m                                 Traceback (most recent call last)",
            "\u001b[0;32m~/anaconda3_501/lib/python3.6/site-packages/IPython/core/formatters.py\u001b[0m in \u001b[0;36m__call__\u001b[0;34m(self, obj)\u001b[0m\n\u001b[1;32m    343\u001b[0m             \u001b[0mmethod\u001b[0m \u001b[0;34m=\u001b[0m \u001b[0mget_real_method\u001b[0m\u001b[0;34m(\u001b[0m\u001b[0mobj\u001b[0m\u001b[0;34m,\u001b[0m \u001b[0mself\u001b[0m\u001b[0;34m.\u001b[0m\u001b[0mprint_method\u001b[0m\u001b[0;34m)\u001b[0m\u001b[0;34m\u001b[0m\u001b[0m\n\u001b[1;32m    344\u001b[0m             \u001b[0;32mif\u001b[0m \u001b[0mmethod\u001b[0m \u001b[0;32mis\u001b[0m \u001b[0;32mnot\u001b[0m \u001b[0;32mNone\u001b[0m\u001b[0;34m:\u001b[0m\u001b[0;34m\u001b[0m\u001b[0m\n\u001b[0;32m--> 345\u001b[0;31m                 \u001b[0;32mreturn\u001b[0m \u001b[0mmethod\u001b[0m\u001b[0;34m(\u001b[0m\u001b[0;34m)\u001b[0m\u001b[0;34m\u001b[0m\u001b[0m\n\u001b[0m\u001b[1;32m    346\u001b[0m             \u001b[0;32mreturn\u001b[0m \u001b[0;32mNone\u001b[0m\u001b[0;34m\u001b[0m\u001b[0m\n\u001b[1;32m    347\u001b[0m         \u001b[0;32melse\u001b[0m\u001b[0;34m:\u001b[0m\u001b[0;34m\u001b[0m\u001b[0m\n",
            "\u001b[0;32m~/anaconda3_501/lib/python3.6/site-packages/IPython/core/display.py\u001b[0m in \u001b[0;36m_repr_png_\u001b[0;34m(self)\u001b[0m\n\u001b[1;32m   1268\u001b[0m     \u001b[0;32mdef\u001b[0m \u001b[0m_repr_png_\u001b[0m\u001b[0;34m(\u001b[0m\u001b[0mself\u001b[0m\u001b[0;34m)\u001b[0m\u001b[0;34m:\u001b[0m\u001b[0;34m\u001b[0m\u001b[0m\n\u001b[1;32m   1269\u001b[0m         \u001b[0;32mif\u001b[0m \u001b[0mself\u001b[0m\u001b[0;34m.\u001b[0m\u001b[0membed\u001b[0m \u001b[0;32mand\u001b[0m \u001b[0mself\u001b[0m\u001b[0;34m.\u001b[0m\u001b[0mformat\u001b[0m \u001b[0;34m==\u001b[0m \u001b[0mself\u001b[0m\u001b[0;34m.\u001b[0m\u001b[0m_FMT_PNG\u001b[0m\u001b[0;34m:\u001b[0m\u001b[0;34m\u001b[0m\u001b[0m\n\u001b[0;32m-> 1270\u001b[0;31m             \u001b[0;32mreturn\u001b[0m \u001b[0mself\u001b[0m\u001b[0;34m.\u001b[0m\u001b[0m_data_and_metadata\u001b[0m\u001b[0;34m(\u001b[0m\u001b[0;34m)\u001b[0m\u001b[0;34m\u001b[0m\u001b[0m\n\u001b[0m\u001b[1;32m   1271\u001b[0m \u001b[0;34m\u001b[0m\u001b[0m\n\u001b[1;32m   1272\u001b[0m     \u001b[0;32mdef\u001b[0m \u001b[0m_repr_jpeg_\u001b[0m\u001b[0;34m(\u001b[0m\u001b[0mself\u001b[0m\u001b[0;34m)\u001b[0m\u001b[0;34m:\u001b[0m\u001b[0;34m\u001b[0m\u001b[0m\n",
            "\u001b[0;32m~/anaconda3_501/lib/python3.6/site-packages/IPython/core/display.py\u001b[0m in \u001b[0;36m_data_and_metadata\u001b[0;34m(self, always_both)\u001b[0m\n\u001b[1;32m   1251\u001b[0m     \u001b[0;32mdef\u001b[0m \u001b[0m_data_and_metadata\u001b[0m\u001b[0;34m(\u001b[0m\u001b[0mself\u001b[0m\u001b[0;34m,\u001b[0m \u001b[0malways_both\u001b[0m\u001b[0;34m=\u001b[0m\u001b[0;32mFalse\u001b[0m\u001b[0;34m)\u001b[0m\u001b[0;34m:\u001b[0m\u001b[0;34m\u001b[0m\u001b[0m\n\u001b[1;32m   1252\u001b[0m         \u001b[0;34m\"\"\"shortcut for returning metadata with shape information, if defined\"\"\"\u001b[0m\u001b[0;34m\u001b[0m\u001b[0m\n\u001b[0;32m-> 1253\u001b[0;31m         \u001b[0mb64_data\u001b[0m \u001b[0;34m=\u001b[0m \u001b[0mb2a_base64\u001b[0m\u001b[0;34m(\u001b[0m\u001b[0mself\u001b[0m\u001b[0;34m.\u001b[0m\u001b[0mdata\u001b[0m\u001b[0;34m)\u001b[0m\u001b[0;34m.\u001b[0m\u001b[0mdecode\u001b[0m\u001b[0;34m(\u001b[0m\u001b[0;34m'ascii'\u001b[0m\u001b[0;34m)\u001b[0m\u001b[0;34m\u001b[0m\u001b[0m\n\u001b[0m\u001b[1;32m   1254\u001b[0m         \u001b[0mmd\u001b[0m \u001b[0;34m=\u001b[0m \u001b[0;34m{\u001b[0m\u001b[0;34m}\u001b[0m\u001b[0;34m\u001b[0m\u001b[0m\n\u001b[1;32m   1255\u001b[0m         \u001b[0;32mif\u001b[0m \u001b[0mself\u001b[0m\u001b[0;34m.\u001b[0m\u001b[0mmetadata\u001b[0m\u001b[0;34m:\u001b[0m\u001b[0;34m\u001b[0m\u001b[0m\n",
            "\u001b[0;31mTypeError\u001b[0m: a bytes-like object is required, not 'function'"
          ]
        },
        {
          "output_type": "execute_result",
          "execution_count": 365,
          "data": {
            "text/plain": "<IPython.core.display.Image object>"
          },
          "metadata": {}
        }
      ]
    },
    {
      "metadata": {
        "trusted": true
      },
      "cell_type": "code",
      "source": "",
      "execution_count": null,
      "outputs": []
    }
  ],
  "metadata": {
    "kernelspec": {
      "name": "python36",
      "display_name": "Python 3.6",
      "language": "python"
    },
    "language_info": {
      "mimetype": "text/x-python",
      "nbconvert_exporter": "python",
      "name": "python",
      "pygments_lexer": "ipython3",
      "version": "3.6.6",
      "file_extension": ".py",
      "codemirror_mode": {
        "version": 3,
        "name": "ipython"
      }
    }
  },
  "nbformat": 4,
  "nbformat_minor": 2
}